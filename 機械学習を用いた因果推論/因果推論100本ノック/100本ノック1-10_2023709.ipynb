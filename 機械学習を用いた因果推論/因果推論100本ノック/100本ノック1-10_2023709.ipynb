{
 "cells": [
  {
   "cell_type": "markdown",
   "id": "a4152dd5",
   "metadata": {},
   "source": [
    "---\n",
    "> P-001: レシート明細データ（df_receipt）から全項目の先頭10件を表示し、どのようなデータを保有しているか目視で確認せよ。\n",
    ">\n",
    ">`df_receipt.head(10)`"
   ]
  },
  {
   "cell_type": "markdown",
   "id": "14d150dd",
   "metadata": {},
   "source": [
    "---\n",
    "> P-002: レシート明細データ（df_receipt）から売上年月日（sales_ymd）、顧客ID（customer_id）、商品コード（product_cd）、売上金額（amount）の順に列を指定し、10件表示せよ。\n",
    ">\n",
    ">`df_receipt[['sales_ymd', 'customer_id', 'product_cd', 'amount']].head(10)`"
   ]
  },
  {
   "cell_type": "markdown",
   "id": "9fda86ae",
   "metadata": {},
   "source": [
    "---\n",
    "> P-003: レシート明細データ（df_receipt）から売上年月日（sales_ymd）、顧客ID（customer_id）、商品コード（product_cd）、売上金額（amount）の順に列を指定し、10件表示せよ。ただし、sales_ymdをsales_dateに項目名を変更して抽出すること。\n",
    ">\n",
    ">`df_receipt[['sales_ymd', 'customer_id', 'product_cd', 'amount']].rename({'sales_ymd': 'sales_date'}).head(10)`"
   ]
  },
  {
   "cell_type": "markdown",
   "id": "2298557c",
   "metadata": {},
   "source": [
    "---\n",
    "> P-004: レシート明細データ（df_receipt）から売上日（sales_ymd）、顧客ID（customer_id）、商品コード（product_cd）、売上金額（amount）の順に列を指定し、以下の条件を満たすデータを抽出せよ。\n",
    "> - 顧客ID（customer_id）が\"CS018205000001\"\n",
    ">\n",
    ">`df_receipt[['sales_ymd', 'customer_id', 'product_cd', 'amount']].query('customer_id == \"CS018205000001\"')`"
   ]
  },
  {
   "cell_type": "markdown",
   "id": "dc5c41b9",
   "metadata": {},
   "source": [
    "---\n",
    "> P-005: レシート明細データ（df_receipt）から売上日（sales_ymd）、顧客ID（customer_id）、商品コード（product_cd）、売上金額（amount）の順に列を指定し、以下の全ての条件を満たすデータを抽出せよ。\n",
    "> - 顧客ID（customer_id）が\"CS018205000001\"\n",
    "> - 売上金額（amount）が1,000以上\n",
    ">\n",
    ">`df_receipt[['sales_ymd', 'customer_id', 'product_cd', 'amount']].query('customer_id == \"CS018205000001\" and amount >= 1000')`"
   ]
  },
  {
   "cell_type": "markdown",
   "id": "7c1b7c2a",
   "metadata": {},
   "source": [
    "---\n",
    "> P-006: レシート明細データ（df_receipt）から売上日（sales_ymd）、顧客ID（customer_id）、商品コード（product_cd）、売上数量（quantity）、売上金額（amount）の順に列を指定し、以下の全ての条件を満たすデータを抽出せよ。\n",
    "> - 顧客ID（customer_id）が\"CS018205000001\"\n",
    "> - 売上金額（amount）が1,000以上または売上数量（quantity）が5以上\n",
    ">\n",
    ">`df_receipt[['sales_ymd', 'customer_id', 'product_cd', 'quantity', 'amount']].query('customer_id == \"CS018205000001\" and (amount >= 1000 or quantity >= 5)')`"
   ]
  },
  {
   "cell_type": "markdown",
   "id": "4e7507bb",
   "metadata": {},
   "source": [
    "---\n",
    "> P-007: レシート明細データ（df_receipt）から売上日（sales_ymd）、顧客ID（customer_id）、商品コード（product_cd）、売上金額（amount）の順に列を指定し、以下の全ての条件を満たすデータを抽出せよ。\n",
    "> - 顧客ID（customer_id）が\"CS018205000001\"\n",
    "> - 売上金額（amount）が1,000以上2,000以下\n",
    ">\n",
    ">`df_receipt[['sales_ymd', 'customer_id', 'product_cd', 'amount']].query('customer_id == \"CS018205000001\" and amount >= 1000 and amount <= 2000')`"
   ]
  },
  {
   "cell_type": "markdown",
   "id": "58144c86",
   "metadata": {},
   "source": [
    "---\n",
    "> P-008: レシート明細データ（df_receipt）から売上日（sales_ymd）、顧客ID（customer_id）、商品コード（product_cd）、売上金額（amount）の順に列を指定し、以下の全ての条件を満たすデータを抽出せよ。\n",
    "> - 顧客ID（customer_id）が\"CS018205000001\"\n",
    "> - 商品コード（product_cd）が\"P071401019\"以外\n",
    ">\n",
    ">`df_receipt[['sales_ymd', 'customer_id', 'product_cd', 'amount']].query('customer_id == \"CS018205000001\" and product_cd != \"P071401019\"')`"
   ]
  },
  {
   "cell_type": "markdown",
   "id": "ba417203",
   "metadata": {},
   "source": [
    "---\n",
    "> P-009: 以下の処理において、出力結果を変えずにORをANDに書き換えよ。\n",
    "> \n",
    "> `df_store.query('not(prefecture_cd == \"13\" | floor_area > 900)')`\n",
    ">\n",
    ">`df_store.query('prefecture_cd != 13 and floor_area <= 900')`"
   ]
  },
  {
   "cell_type": "markdown",
   "id": "d3acf48a",
   "metadata": {},
   "source": [
    "---\n",
    "> P-010: 店舗データ（df_store）から、店舗コード（store_cd）が\"S14\"で始まるものだけ全項目抽出し、10件表示せよ。\n",
    ">\n",
    ">`df_store[df_store['store_cd'].str.contains('^S14')].head(10)`"
   ]
  },
  {
   "cell_type": "code",
   "execution_count": null,
   "id": "ac2b6d5c",
   "metadata": {},
   "outputs": [],
   "source": []
  }
 ],
 "metadata": {
  "kernelspec": {
   "display_name": "Python 3 (ipykernel)",
   "language": "python",
   "name": "python3"
  },
  "language_info": {
   "codemirror_mode": {
    "name": "ipython",
    "version": 3
   },
   "file_extension": ".py",
   "mimetype": "text/x-python",
   "name": "python",
   "nbconvert_exporter": "python",
   "pygments_lexer": "ipython3",
   "version": "3.9.12"
  }
 },
 "nbformat": 4,
 "nbformat_minor": 5
}
