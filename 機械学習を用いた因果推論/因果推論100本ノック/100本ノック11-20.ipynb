{
 "cells": [
  {
   "cell_type": "markdown",
   "id": "3befd4f2",
   "metadata": {},
   "source": [
    "> P-011: 顧客データ（df_customer）から顧客ID（customer_id）の末尾が1のものだけ全項目抽出し、10件表示せよ。\n",
    ">`df_customer.query('customer_id.str.endswith(\"1\")')`.head(10)"
   ]
  },
  {
   "cell_type": "markdown",
   "id": "691bf3e8",
   "metadata": {},
   "source": [
    "> P-011: 顧客データ（df_customer）から顧客ID（customer_id）の末尾が1のものだけ全項目抽出し、10件表示せよ。\n",
    "> `df_customer.query('customer_id.str.endswith(\"1\")').head(10)`"
   ]
  },
  {
   "cell_type": "markdown",
   "id": "5e4cfe01",
   "metadata": {},
   "source": [
    "> P-012: 店舗データ（df_store）から、住所 (address) に\"横浜市\"が含まれるものだけ全項目表示せよ。\n",
    "> `df_store.query('address.str.contains(\"横浜市\")')`"
   ]
  },
  {
   "cell_type": "markdown",
   "id": "5092ecf0",
   "metadata": {},
   "source": [
    "> P-013: 顧客データ（df_customer）から、ステータスコード（status_cd）の先頭がアルファベットのA〜Fで始まるデータを全項目抽出し、10件表示せよ。\n",
    ">\n",
    ">`df_customer.query('status_cd.str.contains(\"[^A-F]\")').head(10)`"
   ]
  },
  {
   "cell_type": "markdown",
   "id": "1bdcec7a",
   "metadata": {},
   "source": [
    "> P-014: 顧客データ（df_customer）から、ステータスコード（status_cd）の末尾が数字の1〜9で終わるデータを全項目抽出し、10件表示せよ。\n",
    ">\n",
    ">`df_customer.query('status_cd.str.contains(\"[1-9]$\")').head(10)`"
   ]
  },
  {
   "cell_type": "markdown",
   "id": "8fd1ab11",
   "metadata": {},
   "source": [
    "> P-015: 顧客データ（df_customer）から、ステータスコード（status_cd）の先頭がアルファベットのA〜Fで始まり、末尾が数字の1〜9で終わるデータを全項目抽出し、10件表示せよ\n",
    ">\n",
    ">`df_customer.query('status_cd.str.contains(\"^[A-F]\") and status_cd.str.contains(\"[1-9]$\")').head(10)`\n",
    ">\n",
    ">別解\n",
    ">\n",
    ">`df_customer.query('status_cd.str.contains(\"^[A-F].*[1-9]$\")').head(10)`"
   ]
  },
  {
   "cell_type": "markdown",
   "id": "d560ef76",
   "metadata": {},
   "source": [
    "> P-016: 店舗データ（df_store）から、電話番号（tel_no）が3桁-3桁-4桁のデータを全項目表示せよ。\n",
    ">\n",
    ">`df_store.query('tel_no.str.contains(\"[0-9]{3}-[0-9]{3}-[0-9]{4}\")')`"
   ]
  },
  {
   "cell_type": "markdown",
   "id": "e8140f93",
   "metadata": {},
   "source": [
    "> P-017: 顧客データ（df_customer）を生年月日（birth_day）で高齢順にソートし、先頭から全項目を10件表示せよ。\n",
    ">\n",
    "> `df_customer.sort_values(by = \"birth_day\", ascending = True).head(10)`"
   ]
  },
  {
   "cell_type": "markdown",
   "id": "bc7d0512",
   "metadata": {},
   "source": [
    "> P-018: 顧客データ（df_customer）を生年月日（birth_day）で若い順にソートし、先頭から全項目を10件表示せよ。\n",
    ">\n",
    ">`df_customer.sort_values('birth_day', ascending = False).head(10)`"
   ]
  },
  {
   "cell_type": "markdown",
   "id": "0293137e",
   "metadata": {},
   "source": [
    "> P-019: レシート明細データ（df_receipt）に対し、1件あたりの売上金額（amount）が高い順にランクを付与し、先頭から10件表示せよ。項目は顧客ID（customer_id）、売上金額（amount）、付与したランクを表示させること。なお、売上金額（amount）が等しい場合は同一順位を付与するものとする。\n",
    ">\n",
    ">df_tmp = pd.concat([df_receipt[['customer_id', 'amount']], df_receipt['amount'].rank(method = 'min', ascending = False)], axis = 1)\n",
    ">df_tmp.columns = ['customer_id', 'amount', 'amount_ranking']\n",
    ">df_tmp.sort_values('amount_ranking').head(10)"
   ]
  },
  {
   "cell_type": "code",
   "execution_count": null,
   "id": "02fcc3b6",
   "metadata": {},
   "outputs": [],
   "source": []
  }
 ],
 "metadata": {
  "kernelspec": {
   "display_name": "Python 3 (ipykernel)",
   "language": "python",
   "name": "python3"
  },
  "language_info": {
   "codemirror_mode": {
    "name": "ipython",
    "version": 3
   },
   "file_extension": ".py",
   "mimetype": "text/x-python",
   "name": "python",
   "nbconvert_exporter": "python",
   "pygments_lexer": "ipython3",
   "version": "3.9.12"
  }
 },
 "nbformat": 4,
 "nbformat_minor": 5
}
