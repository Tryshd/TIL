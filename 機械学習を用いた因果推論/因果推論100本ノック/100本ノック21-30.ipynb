{
 "cells": [
  {
   "cell_type": "markdown",
   "id": "df314314",
   "metadata": {},
   "source": [
    "> P-021: レシート明細データ（df_receipt）に対し、件数をカウントせよ。\n",
    ">\n",
    "> `len(df_receipt)`"
   ]
  },
  {
   "cell_type": "markdown",
   "id": "be34e133",
   "metadata": {},
   "source": [
    "> P-022: レシート明細データ（df_receipt）の顧客ID（customer_id）に対し、ユニーク件数をカウントせよ。\n",
    ">\n",
    "> `len(df_receipt['customer_id'].unique())`"
   ]
  },
  {
   "cell_type": "markdown",
   "id": "51e75fbd",
   "metadata": {},
   "source": [
    "> P-023: レシート明細データ（df_receipt）に対し、店舗コード（store_cd）ごとに売上金額（amount）と売上数量（quantity）を合計せよ。\n",
    ">\n",
    "> `df_receipt.groupby('store_cd').agg({'amount':np.sum, 'quantity':np.sum})`"
   ]
  },
  {
   "cell_type": "markdown",
   "id": "586988c3",
   "metadata": {},
   "source": [
    "> P-024: レシート明細データ（df_receipt）に対し、顧客ID（customer_id）ごとに最も新しい売上年月日（sales_ymd）を求め、10件表示せよ。\n",
    ">\n",
    ">`df_receipt.groupby('customer_id').agg({'sales_ymd': np.median}).head(10)`"
   ]
  },
  {
   "cell_type": "markdown",
   "id": "9aee3c98",
   "metadata": {},
   "source": [
    "> P-025: レシート明細データ（df_receipt）に対し、顧客ID（customer_id）ごとに最も古い売上年月日（sales_ymd）を求め、10件表示せよ。\n",
    ">\n",
    "> `df_receipt.groupby('customer_id').agg({'sales_ymd': np.min}).head(10)`"
   ]
  },
  {
   "cell_type": "markdown",
   "id": "2957a711",
   "metadata": {},
   "source": [
    "> P-026: レシート明細データ（df_receipt）に対し、顧客ID（customer_id）ごとに最も新しい売上年月日（sales_ymd）と古い売上年月日を求め、両者が異なるデータを10件表示せよ。\n",
    ">\n",
    ">`df_tmp = df_receipt.groupby('customer_id').agg({'sales_ymd': [np.max, np.min]}).reset_index()\n",
    ">df_tmp.columns = ['customer_id', 'sales_ymd_max', 'sales_ymd_min']\n",
    ">df_tmp.query('sales_ymd_max != sales_ymd_min').set_index('customer_id').head(10)`"
   ]
  },
  {
   "cell_type": "markdown",
   "id": "6ebd1abe",
   "metadata": {},
   "source": [
    "> P-027: レシート明細データ（df_receipt）に対し、店舗コード（store_cd）ごとに売上金額（amount）の平均を計算し、降順でTOP5を表示せよ。\n",
    ">\n",
    ">`df_receipt.groupby('store_cd').agg({'amount': np.mean}).sort_values(by = 'amount', ascending = False).head(5)`"
   ]
  },
  {
   "cell_type": "markdown",
   "id": "7588dd17",
   "metadata": {},
   "source": [
    "> P-028: レシート明細データ（df_receipt）に対し、店舗コード（store_cd）ごとに売上金額（amount）の中央値を計算し、降順でTOP5を表示せよ。\n",
    ">\n",
    ">`df_receipt.groupby('store_cd').agg({'amount': np.median}).sort_values(by = 'amount', ascending = False).head(5)`"
   ]
  },
  {
   "cell_type": "markdown",
   "id": "865451de",
   "metadata": {},
   "source": [
    "> P-029: レシート明細データ（df_receipt）に対し、店舗コード（store_cd）ごとに商品コード（product_cd）の最頻値を求め、10件表示させよ。\n",
    ">\n",
    ">`df_receipt.groupby('store_cd').product_cd.apply(lambda x:x.mode()).reset_index().head(10)`"
   ]
  },
  {
   "cell_type": "markdown",
   "id": "4c88fc2d",
   "metadata": {},
   "source": [
    ">P-030: レシート明細データ（df_receipt）に対し、店舗コード（store_cd）ごとに売上金額（amount）の分散を計算し、降順で5件表示せよ。\n",
    ">\n",
    ">`df_receipt.groupby('store_cd').agg({'amount': 'var'}).sort_values('amount', ascending=False).head()`"
   ]
  },
  {
   "cell_type": "code",
   "execution_count": null,
   "id": "7a13e9d8",
   "metadata": {},
   "outputs": [],
   "source": []
  }
 ],
 "metadata": {
  "kernelspec": {
   "display_name": "Python 3 (ipykernel)",
   "language": "python",
   "name": "python3"
  },
  "language_info": {
   "codemirror_mode": {
    "name": "ipython",
    "version": 3
   },
   "file_extension": ".py",
   "mimetype": "text/x-python",
   "name": "python",
   "nbconvert_exporter": "python",
   "pygments_lexer": "ipython3",
   "version": "3.9.12"
  }
 },
 "nbformat": 4,
 "nbformat_minor": 5
}
