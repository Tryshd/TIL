{
 "cells": [
  {
   "cell_type": "markdown",
   "id": "bd4a61f9",
   "metadata": {},
   "source": [
    "---\n",
    "> P-021: レシート明細データ（df_receipt）に対し、件数をカウントせよ。\n",
    ">\n",
    ">print(len(df_receipt))"
   ]
  },
  {
   "cell_type": "markdown",
   "id": "f8e0031e",
   "metadata": {},
   "source": [
    "---\n",
    "> P-022: レシート明細データ（df_receipt）の顧客ID（customer_id）に対し、ユニーク件数をカウントせよ。\n",
    ">\n",
    ">print(len(df_receipt.customer_id.unique()))"
   ]
  },
  {
   "cell_type": "markdown",
   "id": "963eb3fd",
   "metadata": {},
   "source": [
    "---\n",
    "> P-023: レシート明細データ（df_receipt）に対し、店舗コード（store_cd）ごとに売上金額（amount）と売上数量（quantity）を合計せよ。\n",
    ">\n",
    ">df_receipt.groupby('store_cd').agg({'amount': 'sum', 'quantity':'sum'})"
   ]
  },
  {
   "cell_type": "markdown",
   "id": "67aa3a3c",
   "metadata": {},
   "source": [
    "---\n",
    "> P-024: レシート明細データ（df_receipt）に対し、顧客ID（customer_id）ごとに最も新しい売上年月日（sales_ymd）を求め、10件表示せよ。\n",
    ">\n",
    ">df_receipt.groupby('customer_id').agg({'sales_ymd': 'max'}).head(10)"
   ]
  },
  {
   "cell_type": "markdown",
   "id": "5d87e314",
   "metadata": {},
   "source": [
    "---\n",
    "> P-025: レシート明細データ（df_receipt）に対し、顧客ID（customer_id）ごとに最も古い売上年月日（sales_ymd）を求め、10件表示せよ。\n",
    ">\n",
    ">df_receipt.groupby('customer_id').agg({'sales_ymd':'min'}).head(10)"
   ]
  },
  {
   "cell_type": "markdown",
   "id": "8a8417ad",
   "metadata": {},
   "source": [
    "---\n",
    "> P-026: レシート明細データ（df_receipt）に対し、顧客ID（customer_id）ごとに最も新しい売上年月日（sales_ymd）と古い売上年月日を求め、両者が異なるデータを10件表示せよ。\n",
    ">\n",
    ">df_tmp = df_receipt.groupby('customer_id').agg({'sales_ymd': ['max', 'min']})\n",
    ">df_tmp.columns = [\"_\".join(pair) for pair in df_tmp.columns]\n",
    ">df_tmp.query('sales_ymd_max != sales_ymd_min').head(10)"
   ]
  },
  {
   "cell_type": "markdown",
   "id": "d221a189",
   "metadata": {},
   "source": [
    "---\n",
    "> P-027: レシート明細データ（df_receipt）に対し、店舗コード（store_cd）ごとに売上金額（amount）の平均を計算し、降順でTOP5を表示せよ。\n",
    ">\n",
    ">df_receipt.groupby('store_cd').agg({'amount': 'mean'}).sort_values(by = 'amount', ascending = False).head(5)"
   ]
  },
  {
   "cell_type": "markdown",
   "id": "cb21bba0",
   "metadata": {},
   "source": [
    "---\n",
    "> P-028: レシート明細データ（df_receipt）に対し、店舗コード（store_cd）ごとに売上金額（amount）の中央値を計算し、降順でTOP5を表示せよ。\n",
    ">\n",
    ">df_receipt.groupby('store_cd').agg({'amount': 'median'}).sort_values(by = 'amount', ascending = False).head(5)"
   ]
  },
  {
   "cell_type": "markdown",
   "id": "158eb86d",
   "metadata": {},
   "source": [
    "---\n",
    "> P-029: レシート明細データ（df_receipt）に対し、店舗コード（store_cd）ごとに商品コード（product_cd）の最頻値を求め、10件表示させよ。\n",
    ">\n",
    ">print(df_receipt.columns)\n",
    ">df_receipt.groupby('store_cd').product_cd.apply(lambda x: x.mode()).reset_index().head(10)"
   ]
  },
  {
   "cell_type": "markdown",
   "id": "48496fed",
   "metadata": {},
   "source": [
    "---\n",
    "> P-030: レシート明細データ（df_receipt）に対し、店舗コード（store_cd）ごとに売上金額（amount）の分散を計算し、降順で5件表示せよ。\n",
    ">df_receipt.groupby('store_cd').agg({'amount': 'var'}).sort_values(by = 'amount', ascending = False).head(5)"
   ]
  },
  {
   "cell_type": "code",
   "execution_count": null,
   "id": "7a7318f3",
   "metadata": {},
   "outputs": [],
   "source": []
  }
 ],
 "metadata": {
  "kernelspec": {
   "display_name": "Python 3 (ipykernel)",
   "language": "python",
   "name": "python3"
  },
  "language_info": {
   "codemirror_mode": {
    "name": "ipython",
    "version": 3
   },
   "file_extension": ".py",
   "mimetype": "text/x-python",
   "name": "python",
   "nbconvert_exporter": "python",
   "pygments_lexer": "ipython3",
   "version": "3.9.12"
  }
 },
 "nbformat": 4,
 "nbformat_minor": 5
}
