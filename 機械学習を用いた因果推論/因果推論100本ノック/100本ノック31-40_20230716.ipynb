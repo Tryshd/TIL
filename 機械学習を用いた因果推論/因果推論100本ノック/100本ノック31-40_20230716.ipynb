{
 "cells": [
  {
   "cell_type": "markdown",
   "id": "9379b524",
   "metadata": {},
   "source": [
    "---\n",
    "> P-031: レシート明細データ（df_receipt）に対し、店舗コード（store_cd）ごとに売上金額（amount）の標準偏差を計算し、降順で5件表示せよ。\n",
    ">\n",
    ">`df_receipt.groupby('store_cd').amount.std(ddof=0).sort_values('amount', ascending=False).head()`"
   ]
  },
  {
   "cell_type": "markdown",
   "id": "cd67be56",
   "metadata": {},
   "source": [
    "---\n",
    "> P-032: レシート明細データ（df_receipt）の売上金額（amount）について、25％刻みでパーセンタイル値を求めよ。\n",
    ">\n",
    ">`np.percentile(df_receipt['amount'], q=[25, 50, 75,100])`"
   ]
  },
  {
   "cell_type": "markdown",
   "id": "8265fc0c",
   "metadata": {},
   "source": [
    "---\n",
    "> P-033: レシート明細データ（df_receipt）に対し、店舗コード（store_cd）ごとに売上金額（amount）の平均を計算し、330以上のものを抽出せよ。\n",
    ">\n",
    ">`df_receipt.groupby('store_cd').amount.mean().query('amount >= 330')`"
   ]
  },
  {
   "cell_type": "markdown",
   "id": "64753bdc",
   "metadata": {},
   "source": [
    "---\n",
    "> P-034: レシート明細データ（df_receipt）に対し、顧客ID（customer_id）ごとに売上金額（amount）を合計して全顧客の平均を求めよ。ただし、顧客IDが\"Z\"から始まるものは非会員を表すため、除外して計算すること。\n",
    ">\n",
    ">`df_receipt[df_receipt['customer_id'].str.startswith(\"Z\")].groupby('customer_id').amount.sum().mean()`"
   ]
  },
  {
   "cell_type": "markdown",
   "id": "1b458ab2",
   "metadata": {},
   "source": [
    "---\n",
    "> P-035: レシート明細データ（df_receipt）に対し、顧客ID（customer_id）ごとに売上金額（amount）を合計して全顧客の平均を求め、平均以上に買い物をしている顧客を抽出し、10件表示せよ。ただし、顧客IDが\"Z\"から始まるものは非会員を表すため、除外して計算すること。\n",
    ">\n",
    ">`amount_mean = df_receipt[~df_receipt['customer_id'].str.startswith(\"Z\")].groupby('customer_id').amount.sum().mean()\n",
    "df_amount_sum = df_receipt.groupby('customer_id').amount.sum().reset_index()\n",
    "df_amount_sum[df_amount_sum['amount'] >= amount_mean].head(10)`"
   ]
  },
  {
   "cell_type": "markdown",
   "id": "8b80e739",
   "metadata": {},
   "source": [
    "---\n",
    "> P-036: レシート明細データ（df_receipt）と店舗データ（df_store）を内部結合し、レシート明細データの全項目と店舗データの店舗名（store_name）を10件表示せよ。\n",
    ">\n",
    ">`pd.merge(df_receipt, df_store[['store_cd','store_name']], how='inner', on='store_cd').head(10)`"
   ]
  },
  {
   "cell_type": "markdown",
   "id": "64e86ad7",
   "metadata": {},
   "source": [
    "---\n",
    "> P-037: 商品データ（df_product）とカテゴリデータ（df_category）を内部結合し、商品データの全項目とカテゴリデータのカテゴリ小区分名（category_small_name）を10件表示せよ。\n",
    ">\n",
    ">`pd.merge(df_product\n",
    "         , df_category[['category_small_cd','category_small_name']]\n",
    "         , how='inner', on='category_small_cd').head(10)`"
   ]
  },
  {
   "cell_type": "markdown",
   "id": "303bf4d1",
   "metadata": {},
   "source": [
    "---\n",
    "> P-038: 顧客データ（df_customer）とレシート明細データ（df_receipt）から、顧客ごとの売上金額合計を求め、10件表示せよ。ただし、売上実績がない顧客については売上金額を0として表示させること。また、顧客は性別コード（gender_cd）が女性（1）であるものを対象とし、非会員（顧客IDが\"Z\"から始まるもの）は除外すること。\n",
    ">\n",
    ">`df_amount_sum = df_receipt.groupby('customer_id').amount.sum().reset_index()\n",
    "df_tmp = df_customer.query('gender_cd == \"1\" and not customer_id.str.startswith(\"Z\")', engine='python')\n",
    "pd.merge(df_tmp['customer_id'], df_amount_sum, how='left', on='customer_id').fillna(0).head(10)`"
   ]
  },
  {
   "cell_type": "markdown",
   "id": "817725f2",
   "metadata": {},
   "source": [
    "---\n",
    "> P-039: レシート明細データ（df_receipt）から、売上日数の多い顧客の上位20件を抽出したデータと、売上金額合計の多い顧客の上位20件を抽出したデータをそれぞれ作成し、さらにその2つを完全外部結合せよ。ただし、非会員（顧客IDが\"Z\"から始まるもの）は除外すること。\n",
    ">\n",
    ">`df_sum = df_receipt.groupby('customer_id').amount.sum().reset_index()\n",
    "df_sum = df_sum.query('not customer_id.str.startswith(\"Z\")', engine='python')\n",
    "df_sum = df_sum.sort_values('amount', ascending=False).head(20)`\n",
    "`\n",
    "df_cnt = df_receipt[~df_receipt.duplicated(subset=['customer_id', 'sales_ymd'])]\n",
    "df_cnt = df_cnt.query('not customer_id.str.startswith(\"Z\")', engine='python')\n",
    "df_cnt = df_cnt.groupby('customer_id').sales_ymd.count().reset_index()\n",
    "df_cnt = df_cnt.sort_values('sales_ymd', ascending=False).head(20)\n",
    "`\n",
    "pd.merge(df_sum, df_cnt, how='outer', on='customer_id')`"
   ]
  },
  {
   "cell_type": "markdown",
   "id": "46cc45aa",
   "metadata": {},
   "source": [
    "--------\n",
    "> P-040: 全ての店舗と全ての商品を組み合わせたデータを作成したい。店舗データ（df_store）と商品データ（df_product）を直積し、件数を計算せよ。\n",
    ">\n",
    ">`df_store_tmp = df_store.copy()\n",
    "df_product_tmp = df_product.copy()`\n",
    ">\n",
    "`df_store_tmp['key'] = 0\n",
    "df_product_tmp['key'] = 0`\n",
    ">\n",
    "`len(pd.merge(df_store_tmp, df_product_tmp, on='key', how='outer'))`"
   ]
  },
  {
   "cell_type": "code",
   "execution_count": null,
   "id": "e2a3514f",
   "metadata": {},
   "outputs": [],
   "source": []
  }
 ],
 "metadata": {
  "kernelspec": {
   "display_name": "Python 3 (ipykernel)",
   "language": "python",
   "name": "python3"
  },
  "language_info": {
   "codemirror_mode": {
    "name": "ipython",
    "version": 3
   },
   "file_extension": ".py",
   "mimetype": "text/x-python",
   "name": "python",
   "nbconvert_exporter": "python",
   "pygments_lexer": "ipython3",
   "version": "3.9.12"
  }
 },
 "nbformat": 4,
 "nbformat_minor": 5
}
