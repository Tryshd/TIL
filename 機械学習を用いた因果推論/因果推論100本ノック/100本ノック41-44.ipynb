{
 "cells": [
  {
   "cell_type": "markdown",
   "id": "abcf7a8d",
   "metadata": {},
   "source": [
    "---\n",
    "> P-041: レシート明細データ（df_receipt）の売上金額（amount）を日付（sales_ymd）ごとに集計し、前回売上があった日からの売上金額増減を計算せよ。そして結果を10件表示せよ。\n",
    ">\n",
    ">`df_sales_amount_sum = df_receipt[['sales_ymd', 'amount']].groupby('sales_ymd').sum().reset_index()\n",
    "df_sales_amount_sum = pd.concat([df_sales_amount_sum, df_sales_amount_sum.shift()], axis = 1)\n",
    "df_sales_amount_sum.columns = ['sales_ymd', 'amount', 'before_ymd', 'before_amount']\n",
    "df_sales_amount_sum['diff_amount'] = df_sales_amount_sum['amount'] - df_sales_amount_sum['before_amount']\n",
    "df_sales_amount_sum.head(10)`"
   ]
  },
  {
   "cell_type": "markdown",
   "id": "b63cc61f",
   "metadata": {},
   "source": [
    "---\n",
    "> P-042: レシート明細データ（df_receipt）の売上金額（amount）を日付（sales_ymd）ごとに集計し、各日付のデータに対し、前回、前々回、3回前に売上があった日のデータを結合せよ。そして結果を10件表示せよ。\n",
    ">\n",
    ">`df_sales_sum = df_receipt[['sales_ymd','amount']].groupby('sales_ymd').sum().reset_index()\n",
    "df_days_diff = pd.concat([df_sales_sum, df_sales_sum.shift(), df_sales_sum.shift(2),df_sales_sum.shift(3)],axis = 1)\n",
    "df_days_diff.columns = ['sales_ymd', 'amount', 'before_days','before_amount', 'before_before_days', 'before_before_amount', '3days ago', '3days ago sale']\n",
    "df_days_diff.head(10)`"
   ]
  },
  {
   "cell_type": "markdown",
   "id": "63c025bc",
   "metadata": {},
   "source": [
    "---\n",
    "> P-043： レシート明細データ（df_receipt）と顧客データ（df_customer）を結合し、性別コード（gender_cd）と年代（ageから計算）ごとに売上金額（amount）を合計した売上サマリデータを作成せよ。性別コードは0が男性、1が女性、9が不明を表すものとする。\n",
    ">\n",
    "> ただし、項目構成は年代、女性の売上金額、男性の売上金額、性別不明の売上金額の4項目とすること（縦に年代、横に性別のクロス集計）。また、年代は10歳ごとの階級とすること。\n",
    ">\n",
    ">`df_tmp = pd.merge(df_receipt, df_customer, on = 'customer_id', how = 'inner')[['gender_cd', 'age', 'amount']]#.groupby(['gender_cd', 'age']).sum()\n",
    "df_tmp['era'] = df_tmp['age'].apply(lambda x: math.floor(x/10)*10)\n",
    "df_sales_summary = pd.pivot_table(df_tmp, index = 'era', columns = 'gender_cd', values = 'amount', aggfunc = 'sum').reset_index()\n",
    "df_sales_summary.columns = ['era', 'male', 'female', 'unknown']\n",
    "df_sales_summary`"
   ]
  },
  {
   "cell_type": "markdown",
   "id": "689e91ec",
   "metadata": {},
   "source": [
    "---\n",
    "> P-044： 043で作成した売上サマリデータ（df_sales_summary）は性別の売上を横持ちさせたものであった。このデータから性別を縦持ちさせ、年代、性別コード、売上金額の3項目に変換せよ。ただし、性別コードは男性を\"00\"、女性を\"01\"、不明を\"99\"とする。\n",
    ">\n",
    ">`df_sales_summary = df_sales_summary.set_index('era').stack().reset_index()\n",
    "df_sales_summary = df_sales_summary.replace({'male':'00', 'female':'01', 'unknown':'99'})\n",
    "df_sales_summary`"
   ]
  },
  {
   "cell_type": "code",
   "execution_count": null,
   "id": "429daea8",
   "metadata": {},
   "outputs": [],
   "source": []
  }
 ],
 "metadata": {
  "kernelspec": {
   "display_name": "Python 3 (ipykernel)",
   "language": "python",
   "name": "python3"
  },
  "language_info": {
   "codemirror_mode": {
    "name": "ipython",
    "version": 3
   },
   "file_extension": ".py",
   "mimetype": "text/x-python",
   "name": "python",
   "nbconvert_exporter": "python",
   "pygments_lexer": "ipython3",
   "version": "3.9.12"
  }
 },
 "nbformat": 4,
 "nbformat_minor": 5
}
