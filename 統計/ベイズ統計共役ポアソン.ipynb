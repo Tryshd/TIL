{
 "cells": [
  {
   "cell_type": "code",
   "execution_count": 3,
   "metadata": {},
   "outputs": [],
   "source": [
    "import pandas as pd\n",
    "from scipy import stats\n",
    "import numpy as np"
   ]
  },
  {
   "cell_type": "code",
   "execution_count": 5,
   "metadata": {},
   "outputs": [
    {
     "name": "stdout",
     "output_type": "stream",
     "text": [
      "Collecting japanize-matplotlib\n",
      "  Downloading japanize-matplotlib-1.1.3.tar.gz (4.1 MB)\n",
      "Requirement already satisfied: matplotlib in c:\\users\\toru3\\anaconda3\\lib\\site-packages (from japanize-matplotlib) (3.3.2)\n",
      "Requirement already satisfied: kiwisolver>=1.0.1 in c:\\users\\toru3\\anaconda3\\lib\\site-packages (from matplotlib->japanize-matplotlib) (1.3.0)\n",
      "Requirement already satisfied: pyparsing!=2.0.4,!=2.1.2,!=2.1.6,>=2.0.3 in c:\\users\\toru3\\anaconda3\\lib\\site-packages (from matplotlib->japanize-matplotlib) (2.4.7)\n",
      "Requirement already satisfied: cycler>=0.10 in c:\\users\\toru3\\anaconda3\\lib\\site-packages (from matplotlib->japanize-matplotlib) (0.10.0)\n",
      "Requirement already satisfied: numpy>=1.15 in c:\\users\\toru3\\anaconda3\\lib\\site-packages (from matplotlib->japanize-matplotlib) (1.19.2)\n",
      "Requirement already satisfied: python-dateutil>=2.1 in c:\\users\\toru3\\anaconda3\\lib\\site-packages (from matplotlib->japanize-matplotlib) (2.8.1)\n",
      "Requirement already satisfied: certifi>=2020.06.20 in c:\\users\\toru3\\anaconda3\\lib\\site-packages (from matplotlib->japanize-matplotlib) (2020.6.20)\n",
      "Requirement already satisfied: pillow>=6.2.0 in c:\\users\\toru3\\anaconda3\\lib\\site-packages (from matplotlib->japanize-matplotlib) (8.0.1)\n",
      "Requirement already satisfied: six in c:\\users\\toru3\\anaconda3\\lib\\site-packages (from cycler>=0.10->matplotlib->japanize-matplotlib) (1.15.0)\n",
      "Building wheels for collected packages: japanize-matplotlib\n",
      "  Building wheel for japanize-matplotlib (setup.py): started\n",
      "  Building wheel for japanize-matplotlib (setup.py): finished with status 'done'\n",
      "  Created wheel for japanize-matplotlib: filename=japanize_matplotlib-1.1.3-py3-none-any.whl size=4120278 sha256=1061eb7eb6d065382dbe18623dc22790b5ae110305127710de110e457f3ceda8\n",
      "  Stored in directory: c:\\users\\toru3\\appdata\\local\\pip\\cache\\wheels\\4f\\ca\\96\\4cc5e192421cceb077fbf4ffec533382edd416fd3fa0af0bbd\n",
      "Successfully built japanize-matplotlib\n",
      "Installing collected packages: japanize-matplotlib\n",
      "Successfully installed japanize-matplotlib-1.1.3\n"
     ]
    }
   ],
   "source": [
    "\n",
    "# グラフ描画のためのライブラリ\n",
    "import matplotlib.pyplot as plt\n",
    "%matplotlib inline\n",
    "\n",
    "# matplotlibを日本語表示に対応させるモジュール\n",
    "!pip install japanize-matplotlib\n",
    "import japanize_matplotlib"
   ]
  },
  {
   "cell_type": "code",
   "execution_count": 10,
   "metadata": {},
   "outputs": [
    {
     "name": "stdout",
     "output_type": "stream",
     "text": [
      "信頼区間95％の下限： 1.1734369056138327\n",
      "信頼区間95％の上限： 1.8908362583954745\n"
     ]
    },
    {
     "data": {
      "image/png": "[encoded data removed]",
      "text/plain": [
       "<Figure size 432x288 with 1 Axes>"
      ]
     },
     "metadata": {
      "needs_background": "light"
     },
     "output_type": "display_data"
    }
   ],
   "source": [
    "# x軸の等差数列を生成\n",
    "X = np.arange(start=1, stop=7, step=0.1)\n",
    "\n",
    "# pdfで確率密度関数を生成\n",
    "beta = 45\n",
    "norm_pdf = stats.gamma.pdf(x=X, a = 68, scale = 1/beta) # 期待値=4, 標準偏差=0.8\n",
    "\n",
    "# intervalで信頼区間95％に当たる変数を取得\n",
    "lower, upper = stats.gamma.interval(alpha=0.95, a = 68, loc=0, scale=1/beta) # 信頼係数=0.95, 期待値=4, 標準偏差=0.8\n",
    "print('信頼区間95％の下限：', lower)\n",
    "print('信頼区間95％の上限：', upper)\n",
    "\n",
    "# pdfで各変数の確率密度を取得\n",
    "#v_lower = stats.norm.pdf(x=lower, loc=4, scale=0.8) # 期待値=4, 標準偏差=0.8\n",
    "#v_upper = stats.norm.pdf(x=upper, loc=4, scale=0.8) # 期待値=4, 標準偏差=0.8\n",
    "\n",
    "# 可視化\n",
    "plt.plot(X, norm_pdf)\n",
    "plt.plot(lower, 0.0, 'k|')\n",
    "plt.plot(upper, 0.0, 'k|')\n",
    "\n",
    "plt.vlines(lower, 0.0, v_lower, lw=0.8) # 下限の垂直線\n",
    "plt.vlines(upper, 0.0, v_upper, lw=0.8) # 上限の垂直線\n",
    "\n",
    "plt.xlabel(\"確率変数X\", fontsize=13)\n",
    "plt.ylabel(\"確率密度関数pdf\", fontsize=13)\n",
    "\n",
    "plt.show()"
   ]
  },
  {
   "cell_type": "code",
   "execution_count": 11,
   "metadata": {},
   "outputs": [
    {
     "name": "stdout",
     "output_type": "stream",
     "text": [
      "信頼区間95％の下限： 1.7049431489418194\n",
      "信頼区間95％の上限： 2.2226790202451725\n"
     ]
    },
    {
     "data": {
      "text/plain": [
       "Text(0, 0.5, '確率密度関数pdf')"
      ]
     },
     "execution_count": 11,
     "metadata": {},
     "output_type": "execute_result"
    },
    {
     "data": {
      "image/png": "[encoded data removed]",
      "text/plain": [
       "<Figure size 432x288 with 1 Axes>"
      ]
     },
     "metadata": {
      "needs_background": "light"
     },
     "output_type": "display_data"
    }
   ],
   "source": [
    "# x軸の等差数列を生成\n",
    "X = np.arange(start=1, stop=7, step=0.1)\n",
    "\n",
    "# pdfで確率密度関数を生成\n",
    "beta = 112\n",
    "aalpha = 219\n",
    "norm_pdf = stats.gamma.pdf(x=X, a = aalpha, scale = 1/beta) # 期待値=4, 標準偏差=0.8\n",
    "\n",
    "# intervalで信頼区間95％に当たる変数を取得\n",
    "lower, upper = stats.gamma.interval(alpha=0.95, a = aalpha, loc=0, scale=1/beta) # 信頼係数=0.95, 期待値=4, 標準偏差=0.8\n",
    "print('信頼区間95％の下限：', lower)\n",
    "print('信頼区間95％の上限：', upper)\n",
    "\n",
    "# pdfで各変数の確率密度を取得\n",
    "#v_lower = stats.norm.pdf(x=lower, loc=4, scale=0.8) # 期待値=4, 標準偏差=0.8\n",
    "#v_upper = stats.norm.pdf(x=upper, loc=4, scale=0.8) # 期待値=4, 標準偏差=0.8\n",
    "\n",
    "# 可視化\n",
    "plt.plot(X, norm_pdf)\n",
    "plt.plot(lower, 0.0, 'k|')\n",
    "plt.plot(upper, 0.0, 'k|')\n",
    "\n",
    "plt.vlines(lower, 0.0, v_lower, lw=0.8) # 下限の垂直線\n",
    "plt.vlines(upper, 0.0, v_upper, lw=0.8) # 上限の垂直線\n",
    "\n",
    "plt.xlabel(\"確率変数X\", fontsize=13)\n",
    "plt.ylabel(\"確率密度関数pdf\", fontsize=13)"
   ]
  },
  {
   "cell_type": "code",
   "execution_count": null,
   "metadata": {},
   "outputs": [],
   "source": []
  }
 ],
 "metadata": {
  "kernelspec": {
   "display_name": "Python 3",
   "language": "python",
   "name": "python3"
  },
  "language_info": {
   "codemirror_mode": {
    "name": "ipython",
    "version": 3
   },
   "file_extension": ".py",
   "mimetype": "text/x-python",
   "name": "python",
   "nbconvert_exporter": "python",
   "pygments_lexer": "ipython3",
   "version": "3.8.5"
  }
 },
 "nbformat": 4,
 "nbformat_minor": 4
}
